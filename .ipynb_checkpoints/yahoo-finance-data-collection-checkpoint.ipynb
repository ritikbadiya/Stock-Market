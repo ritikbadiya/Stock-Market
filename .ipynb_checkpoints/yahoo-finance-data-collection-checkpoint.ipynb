{
 "cells": [
  {
   "cell_type": "code",
   "execution_count": 1,
   "id": "60b41b19",
   "metadata": {},
   "outputs": [
    {
     "name": "stdout",
     "output_type": "stream",
     "text": [
      "{'zip': '400093', 'sector': 'Basic Materials', 'longBusinessSummary': \"UltraTech Cement Limited, together with its subsidiaries, manufactures and sells cement and cement related products in India. It offers ordinary Portland cement, Portland blast furnace slag cement, Portland Pozzolana cement, white cement, and white cement-based products; and ready-mix concrete, including specialty concretes, as well as building products consisting AAC blocks, jointing mortars, and host of others in retail formats. The company also provides Super Stucco, a self-curing-no water curing plaster; Power Grout, a self-curing industrial grout for anchoring/grouting applications; Seal & Dry water proofing systems, which helps in water conservation in water storage tanks and canals; and C'retePro, a liquid system for mortar and concrete modifier, as well as repair mortars and concrete under the name of Basekrete and Microkrete. UltraTech Cement Limited exports its products to the United Arab Emirates, Bahrain, and Sri Lanka. In addition, it offers construction products; and value-added services that include technical advice during construction, vaastu consultancy, various training programs, and other related services. The company was formerly known as UltraTech CemCo Limited and changed its name to UltraTech Cement Limited in October 2004. The company was incorporated in 2000 and is based in Mumbai, India. UltraTech Cement Limited operates as a subsidiary of Grasim Industries Limited.\", 'city': 'Mumbai', 'phone': '91 22 6691 7800', 'country': 'India', 'companyOfficers': [], 'website': 'https://www.ultratechcement.com', 'maxAge': 1, 'address1': 'Ahura Centre', 'fax': '91 22 6692 8109', 'industry': 'Building Materials', 'address2': \"'B' Wing, 2nd floor Mahakali Caves Road Andheri (East)\", 'ebitdaMargins': 0.21891001, 'profitMargins': 0.13963, 'grossMargins': 0.61782, 'operatingCashflow': 92832399360, 'revenueGrowth': 0.094, 'operatingMargins': 0.1673, 'ebitda': 115143499776, 'targetLowPrice': 6300, 'recommendationKey': 'buy', 'grossProfits': 324965800000, 'freeCashflow': 29791363072, 'targetMedianPrice': 8205, 'currentPrice': 5632, 'earningsGrowth': 0.476, 'currentRatio': 0.868, 'returnOnAssets': 0.0647, 'numberOfAnalystOpinions': 37, 'targetMeanPrice': 8137.57, 'debtToEquity': 23.006, 'returnOnEquity': 0.15166001, 'targetHighPrice': 9230, 'totalCash': 53225201664, 'totalDebt': 116022796288, 'totalRevenue': 525988298752, 'totalCashPerShare': 184.531, 'financialCurrency': 'INR', 'revenuePerShare': 1823.693, 'quickRatio': 0.416, 'recommendationMean': 1.8, 'exchange': 'NSI', 'shortName': 'ULTRATECH CEMENT', 'longName': 'UltraTech Cement Limited', 'exchangeTimezoneName': 'Asia/Kolkata', 'exchangeTimezoneShortName': 'IST', 'isEsgPopulated': False, 'gmtOffSetMilliseconds': '19800000', 'quoteType': 'EQUITY', 'symbol': 'ULTRACEMCO.NS', 'messageBoardId': 'finmb_13192517', 'market': 'in_market', 'annualHoldingsTurnover': None, 'enterpriseToRevenue': 3.175, 'beta3Year': None, 'enterpriseToEbitda': 14.505, '52WeekChange': -0.16393101, 'morningStarRiskRating': None, 'forwardEps': 137.04, 'revenueQuarterlyGrowth': None, 'sharesOutstanding': 288671008, 'fundInceptionDate': None, 'annualReportExpenseRatio': None, 'totalAssets': None, 'bookValue': 1748.321, 'sharesShort': None, 'sharesPercentSharesOut': None, 'fundFamily': None, 'lastFiscalYearEnd': 1648684800, 'heldPercentInstitutions': 0.22392, 'netIncomeToCommon': 71843897344, 'trailingEps': 248.98, 'lastDividendValue': 37, 'SandP52WeekChange': -0.13026553, 'priceToBook': 3.2213764, 'heldPercentInsiders': 0.60738, 'nextFiscalYearEnd': 1711843200, 'yield': None, 'mostRecentQuarter': 1648684800, 'shortRatio': None, 'sharesShortPreviousMonthDate': None, 'floatShares': 114895111, 'beta': 0.562173, 'enterpriseValue': 1670141968384, 'priceHint': 2, 'threeYearAverageReturn': None, 'lastSplitDate': None, 'lastSplitFactor': None, 'legalType': None, 'lastDividendDate': 1627862400, 'morningStarOverallRating': None, 'earningsQuarterlyGrowth': 0.476, 'priceToSalesTrailing12Months': 3.0909338, 'dateShortInterest': None, 'pegRatio': None, 'ytdReturn': None, 'forwardPE': 41.097492, 'lastCapGain': None, 'shortPercentOfFloat': None, 'sharesShortPriorMonth': None, 'impliedSharesOutstanding': 0, 'category': None, 'fiveYearAverageReturn': None, 'previousClose': 5607.3, 'regularMarketOpen': 5600, 'twoHundredDayAverage': 6875.711, 'trailingAnnualDividendYield': 0.0067768805, 'payoutRatio': 0.1486, 'volume24Hr': None, 'regularMarketDayHigh': 5644, 'navPrice': None, 'averageDailyVolume10Day': 412287, 'regularMarketPreviousClose': 5607.3, 'fiftyDayAverage': 5967.348, 'trailingAnnualDividendRate': 38, 'open': 5600, 'toCurrency': None, 'averageVolume10days': 412287, 'expireDate': None, 'algorithm': None, 'dividendRate': 37, 'exDividendDate': 1627862400, 'circulatingSupply': None, 'startDate': None, 'regularMarketDayLow': 5485, 'currency': 'INR', 'trailingPE': 22.62029, 'regularMarketVolume': 171789, 'lastMarket': None, 'maxSupply': None, 'openInterest': None, 'marketCap': 1625795067904, 'volumeAllCurrencies': None, 'strikePrice': None, 'averageVolume': 443107, 'dayLow': 5485, 'ask': 5631.35, 'askSize': 0, 'volume': 171789, 'fiftyTwoWeekHigh': 8269, 'fromCurrency': None, 'fiveYearAvgDividendYield': 0.3, 'fiftyTwoWeekLow': 5157.05, 'bid': 5630.15, 'tradeable': False, 'dividendYield': 0.0066000004, 'bidSize': 0, 'dayHigh': 5644, 'coinMarketCapLink': None, 'regularMarketPrice': 5632, 'preMarketPrice': None, 'logo_url': 'https://logo.clearbit.com/ultratechcement.com'}\n"
     ]
    }
   ],
   "source": [
    "%matplotlib notebook\n",
    "import yfinance as yahooFinance\n",
    "# Here We are getting Facebook financial information\n",
    "# We need to pass FB as argument for that\n",
    "GetFacebookInformation = yahooFinance.Ticker(\"ULTRACEMCO.NS\")\n",
    "\n",
    "# whole python dictionary is printed here\n",
    "print(GetFacebookInformation.info)\n"
   ]
  },
  {
   "cell_type": "code",
   "execution_count": 2,
   "id": "4553c76f",
   "metadata": {},
   "outputs": [
    {
     "data": {
      "text/html": [
       "<div>\n",
       "<style scoped>\n",
       "    .dataframe tbody tr th:only-of-type {\n",
       "        vertical-align: middle;\n",
       "    }\n",
       "\n",
       "    .dataframe tbody tr th {\n",
       "        vertical-align: top;\n",
       "    }\n",
       "\n",
       "    .dataframe thead th {\n",
       "        text-align: right;\n",
       "    }\n",
       "</style>\n",
       "<table border=\"1\" class=\"dataframe\">\n",
       "  <thead>\n",
       "    <tr style=\"text-align: right;\">\n",
       "      <th></th>\n",
       "      <th>Open</th>\n",
       "      <th>High</th>\n",
       "      <th>Low</th>\n",
       "      <th>Close</th>\n",
       "      <th>Volume</th>\n",
       "      <th>Dividends</th>\n",
       "      <th>Stock Splits</th>\n",
       "    </tr>\n",
       "    <tr>\n",
       "      <th>Date</th>\n",
       "      <th></th>\n",
       "      <th></th>\n",
       "      <th></th>\n",
       "      <th></th>\n",
       "      <th></th>\n",
       "      <th></th>\n",
       "      <th></th>\n",
       "    </tr>\n",
       "  </thead>\n",
       "  <tbody>\n",
       "    <tr>\n",
       "      <th>2002-08-12</th>\n",
       "      <td>284.249342</td>\n",
       "      <td>287.872122</td>\n",
       "      <td>283.784882</td>\n",
       "      <td>287.128998</td>\n",
       "      <td>13300</td>\n",
       "      <td>0.0</td>\n",
       "      <td>0</td>\n",
       "    </tr>\n",
       "    <tr>\n",
       "      <th>2002-08-13</th>\n",
       "      <td>281.044602</td>\n",
       "      <td>290.751823</td>\n",
       "      <td>281.044602</td>\n",
       "      <td>288.801086</td>\n",
       "      <td>14200</td>\n",
       "      <td>0.0</td>\n",
       "      <td>0</td>\n",
       "    </tr>\n",
       "    <tr>\n",
       "      <th>2002-08-14</th>\n",
       "      <td>281.555578</td>\n",
       "      <td>289.822958</td>\n",
       "      <td>281.555578</td>\n",
       "      <td>289.079834</td>\n",
       "      <td>40000</td>\n",
       "      <td>0.0</td>\n",
       "      <td>0</td>\n",
       "    </tr>\n",
       "    <tr>\n",
       "      <th>2002-08-15</th>\n",
       "      <td>289.079834</td>\n",
       "      <td>289.079834</td>\n",
       "      <td>289.079834</td>\n",
       "      <td>289.079834</td>\n",
       "      <td>0</td>\n",
       "      <td>0.0</td>\n",
       "      <td>0</td>\n",
       "    </tr>\n",
       "    <tr>\n",
       "      <th>2002-08-16</th>\n",
       "      <td>287.965045</td>\n",
       "      <td>289.822884</td>\n",
       "      <td>286.153641</td>\n",
       "      <td>288.940399</td>\n",
       "      <td>30600</td>\n",
       "      <td>0.0</td>\n",
       "      <td>0</td>\n",
       "    </tr>\n",
       "    <tr>\n",
       "      <th>...</th>\n",
       "      <td>...</td>\n",
       "      <td>...</td>\n",
       "      <td>...</td>\n",
       "      <td>...</td>\n",
       "      <td>...</td>\n",
       "      <td>...</td>\n",
       "      <td>...</td>\n",
       "    </tr>\n",
       "    <tr>\n",
       "      <th>2022-06-27</th>\n",
       "      <td>5510.000000</td>\n",
       "      <td>5582.000000</td>\n",
       "      <td>5488.049805</td>\n",
       "      <td>5560.250000</td>\n",
       "      <td>226613</td>\n",
       "      <td>0.0</td>\n",
       "      <td>0</td>\n",
       "    </tr>\n",
       "    <tr>\n",
       "      <th>2022-06-28</th>\n",
       "      <td>5560.000000</td>\n",
       "      <td>5585.000000</td>\n",
       "      <td>5480.000000</td>\n",
       "      <td>5572.750000</td>\n",
       "      <td>278114</td>\n",
       "      <td>0.0</td>\n",
       "      <td>0</td>\n",
       "    </tr>\n",
       "    <tr>\n",
       "      <th>2022-06-29</th>\n",
       "      <td>5542.000000</td>\n",
       "      <td>5648.000000</td>\n",
       "      <td>5521.100098</td>\n",
       "      <td>5618.299805</td>\n",
       "      <td>490615</td>\n",
       "      <td>0.0</td>\n",
       "      <td>0</td>\n",
       "    </tr>\n",
       "    <tr>\n",
       "      <th>2022-06-30</th>\n",
       "      <td>5629.000000</td>\n",
       "      <td>5649.000000</td>\n",
       "      <td>5535.000000</td>\n",
       "      <td>5607.299805</td>\n",
       "      <td>572821</td>\n",
       "      <td>0.0</td>\n",
       "      <td>0</td>\n",
       "    </tr>\n",
       "    <tr>\n",
       "      <th>2022-07-01</th>\n",
       "      <td>5600.000000</td>\n",
       "      <td>5644.000000</td>\n",
       "      <td>5485.000000</td>\n",
       "      <td>5638.000000</td>\n",
       "      <td>172150</td>\n",
       "      <td>0.0</td>\n",
       "      <td>0</td>\n",
       "    </tr>\n",
       "  </tbody>\n",
       "</table>\n",
       "<p>4941 rows × 7 columns</p>\n",
       "</div>"
      ],
      "text/plain": [
       "                   Open         High          Low        Close  Volume  \\\n",
       "Date                                                                     \n",
       "2002-08-12   284.249342   287.872122   283.784882   287.128998   13300   \n",
       "2002-08-13   281.044602   290.751823   281.044602   288.801086   14200   \n",
       "2002-08-14   281.555578   289.822958   281.555578   289.079834   40000   \n",
       "2002-08-15   289.079834   289.079834   289.079834   289.079834       0   \n",
       "2002-08-16   287.965045   289.822884   286.153641   288.940399   30600   \n",
       "...                 ...          ...          ...          ...     ...   \n",
       "2022-06-27  5510.000000  5582.000000  5488.049805  5560.250000  226613   \n",
       "2022-06-28  5560.000000  5585.000000  5480.000000  5572.750000  278114   \n",
       "2022-06-29  5542.000000  5648.000000  5521.100098  5618.299805  490615   \n",
       "2022-06-30  5629.000000  5649.000000  5535.000000  5607.299805  572821   \n",
       "2022-07-01  5600.000000  5644.000000  5485.000000  5638.000000  172150   \n",
       "\n",
       "            Dividends  Stock Splits  \n",
       "Date                                 \n",
       "2002-08-12        0.0             0  \n",
       "2002-08-13        0.0             0  \n",
       "2002-08-14        0.0             0  \n",
       "2002-08-15        0.0             0  \n",
       "2002-08-16        0.0             0  \n",
       "...               ...           ...  \n",
       "2022-06-27        0.0             0  \n",
       "2022-06-28        0.0             0  \n",
       "2022-06-29        0.0             0  \n",
       "2022-06-30        0.0             0  \n",
       "2022-07-01        0.0             0  \n",
       "\n",
       "[4941 rows x 7 columns]"
      ]
     },
     "execution_count": 2,
     "metadata": {},
     "output_type": "execute_result"
    }
   ],
   "source": [
    "GetFacebookInformation.history(period=\"max\")"
   ]
  },
  {
   "cell_type": "code",
   "execution_count": 17,
   "id": "21f81685",
   "metadata": {
    "scrolled": false
   },
   "outputs": [
    {
     "data": {
      "text/plain": [
       "dict_keys(['zip', 'sector', 'longBusinessSummary', 'city', 'phone', 'country', 'companyOfficers', 'website', 'maxAge', 'address1', 'fax', 'industry', 'address2', 'ebitdaMargins', 'profitMargins', 'grossMargins', 'operatingCashflow', 'revenueGrowth', 'operatingMargins', 'ebitda', 'targetLowPrice', 'recommendationKey', 'grossProfits', 'freeCashflow', 'targetMedianPrice', 'currentPrice', 'earningsGrowth', 'currentRatio', 'returnOnAssets', 'numberOfAnalystOpinions', 'targetMeanPrice', 'debtToEquity', 'returnOnEquity', 'targetHighPrice', 'totalCash', 'totalDebt', 'totalRevenue', 'totalCashPerShare', 'financialCurrency', 'revenuePerShare', 'quickRatio', 'recommendationMean', 'exchange', 'shortName', 'longName', 'exchangeTimezoneName', 'exchangeTimezoneShortName', 'isEsgPopulated', 'gmtOffSetMilliseconds', 'quoteType', 'symbol', 'messageBoardId', 'market', 'annualHoldingsTurnover', 'enterpriseToRevenue', 'beta3Year', 'enterpriseToEbitda', '52WeekChange', 'morningStarRiskRating', 'forwardEps', 'revenueQuarterlyGrowth', 'sharesOutstanding', 'fundInceptionDate', 'annualReportExpenseRatio', 'totalAssets', 'bookValue', 'sharesShort', 'sharesPercentSharesOut', 'fundFamily', 'lastFiscalYearEnd', 'heldPercentInstitutions', 'netIncomeToCommon', 'trailingEps', 'lastDividendValue', 'SandP52WeekChange', 'priceToBook', 'heldPercentInsiders', 'nextFiscalYearEnd', 'yield', 'mostRecentQuarter', 'shortRatio', 'sharesShortPreviousMonthDate', 'floatShares', 'beta', 'enterpriseValue', 'priceHint', 'threeYearAverageReturn', 'lastSplitDate', 'lastSplitFactor', 'legalType', 'lastDividendDate', 'morningStarOverallRating', 'earningsQuarterlyGrowth', 'priceToSalesTrailing12Months', 'dateShortInterest', 'pegRatio', 'ytdReturn', 'forwardPE', 'lastCapGain', 'shortPercentOfFloat', 'sharesShortPriorMonth', 'impliedSharesOutstanding', 'category', 'fiveYearAverageReturn', 'previousClose', 'regularMarketOpen', 'twoHundredDayAverage', 'trailingAnnualDividendYield', 'payoutRatio', 'volume24Hr', 'regularMarketDayHigh', 'navPrice', 'averageDailyVolume10Day', 'regularMarketPreviousClose', 'fiftyDayAverage', 'trailingAnnualDividendRate', 'open', 'toCurrency', 'averageVolume10days', 'expireDate', 'algorithm', 'dividendRate', 'exDividendDate', 'circulatingSupply', 'startDate', 'regularMarketDayLow', 'currency', 'trailingPE', 'regularMarketVolume', 'lastMarket', 'maxSupply', 'openInterest', 'marketCap', 'volumeAllCurrencies', 'strikePrice', 'averageVolume', 'dayLow', 'ask', 'askSize', 'volume', 'fiftyTwoWeekHigh', 'fromCurrency', 'fiveYearAvgDividendYield', 'fiftyTwoWeekLow', 'bid', 'tradeable', 'dividendYield', 'bidSize', 'dayHigh', 'regularMarketPrice', 'preMarketPrice', 'logo_url'])"
      ]
     },
     "execution_count": 17,
     "metadata": {},
     "output_type": "execute_result"
    }
   ],
   "source": [
    "GetFacebookInformation.info.keys()"
   ]
  },
  {
   "cell_type": "code",
   "execution_count": 18,
   "id": "2ae689b0",
   "metadata": {},
   "outputs": [],
   "source": [
    "import matplotlib.pyplot as plt"
   ]
  },
  {
   "cell_type": "code",
   "execution_count": 31,
   "id": "29a7e303",
   "metadata": {},
   "outputs": [
    {
     "data": {
      "image/png": "[encoded data removed]",
      "text/plain": [
       "<Figure size 432x288 with 1 Axes>"
      ]
     },
     "metadata": {
      "needs_background": "light"
     },
     "output_type": "display_data"
    }
   ],
   "source": [
    "plo=plt.plot(GetFacebookInformation.history(period=\"1mo\")['Open'])[0]"
   ]
  },
  {
   "cell_type": "code",
   "execution_count": 33,
   "id": "3eb5f940",
   "metadata": {},
   "outputs": [
    {
     "data": {
      "text/plain": [
       "<matplotlib.lines.Line2D at 0x205dd5b8670>"
      ]
     },
     "execution_count": 33,
     "metadata": {},
     "output_type": "execute_result"
    }
   ],
   "source": [
    "plo.update()"
   ]
  },
  {
   "cell_type": "code",
   "execution_count": 35,
   "id": "6f967cdd",
   "metadata": {},
   "outputs": [],
   "source": []
  },
  {
   "cell_type": "code",
   "execution_count": 36,
   "id": "ec94e1a6",
   "metadata": {},
   "outputs": [],
   "source": [
    "import matplotlib as mpl"
   ]
  },
  {
   "cell_type": "code",
   "execution_count": 37,
   "id": "a0116d5b",
   "metadata": {},
   "outputs": [
    {
     "data": {
      "text/plain": [
       "'nbAgg'"
      ]
     },
     "execution_count": 37,
     "metadata": {},
     "output_type": "execute_result"
    }
   ],
   "source": [
    "mpl.get_backend()"
   ]
  },
  {
   "cell_type": "code",
   "execution_count": null,
   "id": "149c6804",
   "metadata": {},
   "outputs": [],
   "source": []
  }
 ],
 "metadata": {
  "kernelspec": {
   "display_name": "Python 3",
   "language": "python",
   "name": "python3"
  },
  "language_info": {
   "codemirror_mode": {
    "name": "ipython",
    "version": 3
   },
   "file_extension": ".py",
   "mimetype": "text/x-python",
   "name": "python",
   "nbconvert_exporter": "python",
   "pygments_lexer": "ipython3",
   "version": "3.8.8"
  }
 },
 "nbformat": 4,
 "nbformat_minor": 5
}
